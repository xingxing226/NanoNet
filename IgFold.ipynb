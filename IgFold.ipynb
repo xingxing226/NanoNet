{
  "cells": [
    {
      "cell_type": "markdown",
      "metadata": {
        "id": "5AEsv1z5KXXA"
      },
      "source": [
        "# **IgFold**: Fast, accurate antibody structure prediction\n",
        "\n",
        "Official notebook for [IgFold](https://www.biorxiv.org/content/10.1101/2022.04.20.488972): Fast, accurate antibody structure prediction from deep learning on massive set of natural antibodies.  The code, data, and weights for this work are made available for non-commercial use. For commercial inquiries, please contact `jruffolo[at]jhu.edu`."
      ]
    },
    {
      "cell_type": "code",
      "execution_count": null,
      "metadata": {
        "cellView": "form",
        "id": "0PsLNGK57LDq"
      },
      "outputs": [],
      "source": [
        "#@title Input antibody Fv sequences then press `Runtime` -> `Run all`\n",
        "\n",
        "import os\n",
        "import sys\n",
        "\n",
        "python_version = f\"{sys.version_info.major}.{sys.version_info.minor}\"\n",
        "\n",
        "name = \"my_antibody\" #@param {type:\"string\"}\n",
        "pred_dir = name\n",
        "os.makedirs(pred_dir, exist_ok=True)\n",
        "\n",
        "#@markdown Enter antibody sequences for structure prediction. To predict a nanobody structure (or an individual heavy or light chain), simply provide one sequence.\n",
        "heavy_sequence = \"EVQLVQSGPEVKKPGTSVKVSCKASGFTFMSSAVQWVRQARGQRLEWIGWIVIGSGNTNYAQKFQERVTITRDMSTSTAYMELSSLRSEDTAVYYCAAPYCSSISCNDGFDIWGQGTMVTVS\" #@param {type:\"string\"}\n",
        "light_sequence = \"DVVMTQTPFSLPVSLGDQASISCRSSQSLVHSNGNTYLHWYLQKPGQSPKLLIYKVSNRFSGVPDRFSGSGSGTDFTLKISRVEAEDLGVYFCSQSTHVPYTFGGGTKLEIK\" #@param {type:\"string\"}\n",
        "\n",
        "sequences = {}\n",
        "if len(heavy_sequence) > 0:\n",
        "    sequences[\"H\"] = heavy_sequence\n",
        "if len(light_sequence) > 0:\n",
        "    sequences[\"L\"] = light_sequence\n",
        "\n",
        "#@markdown Perform structural refinement with OpenMM\n",
        "do_refine = True #@param {type:\"boolean\"}\n",
        "#@markdown Renumber predicted antibody structure (Chothia) with AbNumber\n",
        "do_renum = False #@param {type:\"boolean\"}\n",
        "#@markdown Use only a single model for predictions (instead of model ensemble)\n",
        "single_model = False #@param {type:\"boolean\"}"
      ]
    },
    {
      "cell_type": "code",
      "execution_count": 20,
      "metadata": {
        "cellView": "form",
        "id": "LsJNdVE87Go2"
      },
      "outputs": [],
      "source": [
        "#@title Install dependencies\n",
        "\n",
        "PYTHON_VERSION = python_version\n",
        "\n",
        "if not os.path.isfile(\"CONDA_READY\"):\n",
        "  print(\"installing conda...\")\n",
        "  os.system(\"wget -qnc https://github.com/jaimergp/miniforge/releases/latest/download/Mambaforge-colab-Linux-x86_64.sh\")\n",
        "  os.system(\"bash Mambaforge-colab-Linux-x86_64.sh -bfp /usr/local\")\n",
        "  os.system(\"mamba config --set auto_update_conda false\")\n",
        "  os.system(\"touch CONDA_READY\")\n",
        "\n",
        "if not os.path.isfile(\"CODE_READY\"):\n",
        "  print(\"installing igfold...\")\n",
        "  torch_string = \"torch==1.11.0+cu113 torchvision==0.12.0+cu113 -f https://download.pytorch.org/whl/torch_stable.html\"\n",
        "  os.system(f\"pip3 install {torch_string}\")\n",
        "  os.system(f\"pip install 'igfold>=0.3.0' {torch_string}\")\n",
        "  os.system(\"pip install -q --no-warn-conflicts 'py3Dmol>=2.0.1' matplotlib seaborn\")\n",
        "  os.system(\"touch CODE_READY\")\n",
        "\n",
        "if do_refine and not os.path.isfile(\"AMBER_READY\"):\n",
        "  print(\"installing amber...\")\n",
        "  os.system(f\"mamba install -y -q -c conda-forge openmm=7.7.0 python='{PYTHON_VERSION}' pdbfixer 2>&1 1>/dev/null\")\n",
        "  os.system(\"touch AMBER_READY\")\n",
        "\n",
        "if do_renum and not os.path.isfile(\"ABNUMBER_READY\"):\n",
        "  print(\"installing abnumber...\")\n",
        "  os.system(f\"mamba install -y -q -c bioconda abnumber python='{PYTHON_VERSION}' 2>&1 1>/dev/null\")\n",
        "  os.system(\"pip install pandas --force-reinstall\")\n",
        "  os.system(\"touch ABNUMBER_READY\")"
      ]
    },
    {
      "cell_type": "code",
      "source": [
        "!wget https://ghproxy.com/https://github.com/Graylab-Lab/IgFold/archive/refs/heads/main.zip -O igfold.zip\n",
        "!unzip igfold.zip\n",
        "!cd IgFold-main && pip install ."
      ],
      "metadata": {
        "colab": {
          "base_uri": "https://localhost:8080/"
        },
        "id": "y7jQ69tOx_Sr",
        "outputId": "7bcd0b6a-fc0b-48f3-c10e-e8a1d42604ae"
      },
      "execution_count": 26,
      "outputs": [
        {
          "output_type": "stream",
          "name": "stdout",
          "text": [
            "--2025-05-27 03:28:53--  https://ghproxy.com/https://github.com/Graylab-Lab/IgFold/archive/refs/heads/main.zip\n",
            "Resolving ghproxy.com (ghproxy.com)... 144.24.81.189\n",
            "Connecting to ghproxy.com (ghproxy.com)|144.24.81.189|:443... connected.\n",
            "HTTP request sent, awaiting response... 301 Moved Permanently\n",
            "Location: https://ghproxy.link [following]\n",
            "--2025-05-27 03:28:54--  https://ghproxy.link/\n",
            "Resolving ghproxy.link (ghproxy.link)... 140.238.17.201\n",
            "Connecting to ghproxy.link (ghproxy.link)|140.238.17.201|:443... connected.\n",
            "HTTP request sent, awaiting response... 200 OK\n",
            "Length: 1739 (1.7K) [text/html]\n",
            "Saving to: ‘igfold.zip’\n",
            "\n",
            "igfold.zip          100%[===================>]   1.70K  --.-KB/s    in 0s      \n",
            "\n",
            "2025-05-27 03:28:55 (353 MB/s) - ‘igfold.zip’ saved [1739/1739]\n",
            "\n",
            "Archive:  igfold.zip\n",
            "  End-of-central-directory signature not found.  Either this file is not\n",
            "  a zipfile, or it constitutes one disk of a multi-part archive.  In the\n",
            "  latter case the central directory and zipfile comment will be found on\n",
            "  the last disk(s) of this archive.\n",
            "unzip:  cannot find zipfile directory in one of igfold.zip or\n",
            "        igfold.zip.zip, and cannot find igfold.zip.ZIP, period.\n",
            "/bin/bash: line 1: cd: IgFold-main: No such file or directory\n"
          ]
        }
      ]
    },
    {
      "cell_type": "code",
      "source": [
        "!wget https://ghproxy.com/https://github.com/Graylab-Lab/IgFold/archive/refs/heads/main.zip -O igfold.zip\n",
        "!unzip igfold.zip\n",
        "!pip install ./IgFold-main"
      ],
      "metadata": {
        "id": "7RLJ3dglyrD4",
        "outputId": "06ba3f31-b140-4b7b-bac3-11c0a004f4a4",
        "colab": {
          "base_uri": "https://localhost:8080/"
        }
      },
      "execution_count": null,
      "outputs": [
        {
          "output_type": "stream",
          "name": "stdout",
          "text": [
            "--2025-05-27 03:30:56--  https://ghproxy.com/https://github.com/Graylab-Lab/IgFold/archive/refs/heads/main.zip\n",
            "Resolving ghproxy.com (ghproxy.com)... 93.46.8.90\n",
            "Connecting to ghproxy.com (ghproxy.com)|93.46.8.90|:443... failed: Connection timed out.\n",
            "Retrying.\n",
            "\n",
            "--2025-05-27 03:33:06--  (try: 2)  https://ghproxy.com/https://github.com/Graylab-Lab/IgFold/archive/refs/heads/main.zip\n",
            "Connecting to ghproxy.com (ghproxy.com)|93.46.8.90|:443... failed: Connection timed out.\n",
            "Retrying.\n",
            "\n",
            "--2025-05-27 03:35:18--  (try: 3)  https://ghproxy.com/https://github.com/Graylab-Lab/IgFold/archive/refs/heads/main.zip\n",
            "Connecting to ghproxy.com (ghproxy.com)|93.46.8.90|:443... failed: Connection timed out.\n",
            "Retrying.\n",
            "\n",
            "--2025-05-27 03:37:30--  (try: 4)  https://ghproxy.com/https://github.com/Graylab-Lab/IgFold/archive/refs/heads/main.zip\n",
            "Connecting to ghproxy.com (ghproxy.com)|93.46.8.90|:443... failed: Connection timed out.\n",
            "Retrying.\n",
            "\n",
            "--2025-05-27 03:39:46--  (try: 5)  https://ghproxy.com/https://github.com/Graylab-Lab/IgFold/archive/refs/heads/main.zip\n",
            "Connecting to ghproxy.com (ghproxy.com)|93.46.8.90|:443... failed: Connection timed out.\n",
            "Retrying.\n",
            "\n",
            "--2025-05-27 03:42:02--  (try: 6)  https://ghproxy.com/https://github.com/Graylab-Lab/IgFold/archive/refs/heads/main.zip\n",
            "Connecting to ghproxy.com (ghproxy.com)|93.46.8.90|:443... failed: Connection timed out.\n",
            "Retrying.\n",
            "\n",
            "--2025-05-27 03:44:19--  (try: 7)  https://ghproxy.com/https://github.com/Graylab-Lab/IgFold/archive/refs/heads/main.zip\n",
            "Connecting to ghproxy.com (ghproxy.com)|93.46.8.90|:443... failed: Connection timed out.\n",
            "Retrying.\n",
            "\n",
            "--2025-05-27 03:46:35--  (try: 8)  https://ghproxy.com/https://github.com/Graylab-Lab/IgFold/archive/refs/heads/main.zip\n",
            "Connecting to ghproxy.com (ghproxy.com)|93.46.8.90|:443... failed: Connection timed out.\n",
            "Retrying.\n",
            "\n",
            "--2025-05-27 03:48:55--  (try: 9)  https://ghproxy.com/https://github.com/Graylab-Lab/IgFold/archive/refs/heads/main.zip\n",
            "Connecting to ghproxy.com (ghproxy.com)|93.46.8.90|:443... failed: Connection timed out.\n",
            "Retrying.\n",
            "\n",
            "--2025-05-27 03:51:15--  (try:10)  https://ghproxy.com/https://github.com/Graylab-Lab/IgFold/archive/refs/heads/main.zip\n",
            "Connecting to ghproxy.com (ghproxy.com)|93.46.8.90|:443... failed: Connection timed out.\n",
            "Retrying.\n",
            "\n",
            "--2025-05-27 03:53:36--  (try:11)  https://ghproxy.com/https://github.com/Graylab-Lab/IgFold/archive/refs/heads/main.zip\n",
            "Connecting to ghproxy.com (ghproxy.com)|93.46.8.90|:443... failed: Connection timed out.\n",
            "Retrying.\n",
            "\n",
            "--2025-05-27 03:55:55--  (try:12)  https://ghproxy.com/https://github.com/Graylab-Lab/IgFold/archive/refs/heads/main.zip\n",
            "Connecting to ghproxy.com (ghproxy.com)|93.46.8.90|:443... failed: Connection timed out.\n",
            "Retrying.\n",
            "\n",
            "--2025-05-27 03:58:14--  (try:13)  https://ghproxy.com/https://github.com/Graylab-Lab/IgFold/archive/refs/heads/main.zip\n",
            "Connecting to ghproxy.com (ghproxy.com)|93.46.8.90|:443... failed: Connection timed out.\n",
            "Retrying.\n",
            "\n",
            "--2025-05-27 04:00:33--  (try:14)  https://ghproxy.com/https://github.com/Graylab-Lab/IgFold/archive/refs/heads/main.zip\n",
            "Connecting to ghproxy.com (ghproxy.com)|93.46.8.90|:443... failed: Connection timed out.\n",
            "Retrying.\n",
            "\n",
            "--2025-05-27 04:02:53--  (try:15)  https://ghproxy.com/https://github.com/Graylab-Lab/IgFold/archive/refs/heads/main.zip\n",
            "Connecting to ghproxy.com (ghproxy.com)|93.46.8.90|:443... failed: Connection timed out.\n",
            "Retrying.\n",
            "\n",
            "--2025-05-27 04:05:12--  (try:16)  https://ghproxy.com/https://github.com/Graylab-Lab/IgFold/archive/refs/heads/main.zip\n",
            "Connecting to ghproxy.com (ghproxy.com)|93.46.8.90|:443... "
          ]
        }
      ]
    },
    {
      "cell_type": "code",
      "execution_count": 19,
      "metadata": {
        "id": "a2a3BsiE9AXI",
        "outputId": "be8895a5-cd05-4dca-aa62-f0302acec3be",
        "colab": {
          "base_uri": "https://localhost:8080/",
          "height": 384
        }
      },
      "outputs": [
        {
          "output_type": "error",
          "ename": "ModuleNotFoundError",
          "evalue": "No module named 'igfold'",
          "traceback": [
            "\u001b[0;31m---------------------------------------------------------------------------\u001b[0m",
            "\u001b[0;31mModuleNotFoundError\u001b[0m                       Traceback (most recent call last)",
            "\u001b[0;32m<ipython-input-19-2d0e067d8df6>\u001b[0m in \u001b[0;36m<cell line: 0>\u001b[0;34m()\u001b[0m\n\u001b[1;32m      4\u001b[0m     \u001b[0msys\u001b[0m\u001b[0;34m.\u001b[0m\u001b[0mpath\u001b[0m\u001b[0;34m.\u001b[0m\u001b[0minsert\u001b[0m\u001b[0;34m(\u001b[0m\u001b[0;36m0\u001b[0m\u001b[0;34m,\u001b[0m \u001b[0;34mf\"/usr/local/lib/python{python_version}/site-packages/\"\u001b[0m\u001b[0;34m)\u001b[0m\u001b[0;34m\u001b[0m\u001b[0;34m\u001b[0m\u001b[0m\n\u001b[1;32m      5\u001b[0m \u001b[0;34m\u001b[0m\u001b[0m\n\u001b[0;32m----> 6\u001b[0;31m \u001b[0;32mfrom\u001b[0m \u001b[0migfold\u001b[0m\u001b[0;34m.\u001b[0m\u001b[0mutils\u001b[0m\u001b[0;34m.\u001b[0m\u001b[0mvisualize\u001b[0m \u001b[0;32mimport\u001b[0m \u001b[0;34m*\u001b[0m\u001b[0;34m\u001b[0m\u001b[0;34m\u001b[0m\u001b[0m\n\u001b[0m\u001b[1;32m      7\u001b[0m \u001b[0;32mfrom\u001b[0m \u001b[0migfold\u001b[0m \u001b[0;32mimport\u001b[0m \u001b[0mIgFoldRunner\u001b[0m\u001b[0;34m\u001b[0m\u001b[0;34m\u001b[0m\u001b[0m\n\u001b[1;32m      8\u001b[0m \u001b[0;34m\u001b[0m\u001b[0m\n",
            "\u001b[0;31mModuleNotFoundError\u001b[0m: No module named 'igfold'",
            "",
            "\u001b[0;31m---------------------------------------------------------------------------\u001b[0;32m\nNOTE: If your import is failing due to a missing package, you can\nmanually install dependencies using either !pip or !apt.\n\nTo view examples of installing some common dependencies, click the\n\"Open Examples\" button below.\n\u001b[0;31m---------------------------------------------------------------------------\u001b[0m\n"
          ],
          "errorDetails": {
            "actions": [
              {
                "action": "open_url",
                "actionText": "Open Examples",
                "url": "/notebooks/snippets/importing_libraries.ipynb"
              }
            ]
          }
        }
      ],
      "source": [
        "#@title Predict antibody structure with IgFold\n",
        "\n",
        "if f\"/usr/local/lib/python{python_version}/site-packages/\" not in sys.path:\n",
        "    sys.path.insert(0, f\"/usr/local/lib/python{python_version}/site-packages/\")\n",
        "\n",
        "from igfold.utils.visualize import *\n",
        "from igfold import IgFoldRunner\n",
        "\n",
        "num_models = 1 if single_model else 4\n",
        "igfold = IgFoldRunner(num_models=num_models)\n",
        "\n",
        "pred_pdb = os.path.join(pred_dir, f\"{name}.pdb\")\n",
        "pred = igfold.fold(\n",
        "    pred_pdb,\n",
        "    sequences=sequences,\n",
        "    do_refine=do_refine,\n",
        "    use_openmm=True,\n",
        "    do_renum=do_renum,\n",
        ")\n",
        "show_pdb(pred_pdb, len(sequences), bb_sticks=False, sc_sticks=True, color=\"rainbow\")"
      ]
    },
    {
      "cell_type": "code",
      "execution_count": 17,
      "metadata": {
        "cellView": "form",
        "id": "xFOTYxsP9Cz1",
        "outputId": "c695077d-40ca-41be-ca5d-bb8145e8fa32",
        "colab": {
          "base_uri": "https://localhost:8080/",
          "height": 176
        }
      },
      "outputs": [
        {
          "output_type": "error",
          "ename": "NameError",
          "evalue": "name 'plot_prmsd' is not defined",
          "traceback": [
            "\u001b[0;31m---------------------------------------------------------------------------\u001b[0m",
            "\u001b[0;31mNameError\u001b[0m                                 Traceback (most recent call last)",
            "\u001b[0;32m<ipython-input-17-bbbcc8658816>\u001b[0m in \u001b[0;36m<cell line: 0>\u001b[0;34m()\u001b[0m\n\u001b[1;32m      2\u001b[0m \u001b[0;34m\u001b[0m\u001b[0m\n\u001b[1;32m      3\u001b[0m \u001b[0mprmsd_fig_file\u001b[0m \u001b[0;34m=\u001b[0m \u001b[0mos\u001b[0m\u001b[0;34m.\u001b[0m\u001b[0mpath\u001b[0m\u001b[0;34m.\u001b[0m\u001b[0mjoin\u001b[0m\u001b[0;34m(\u001b[0m\u001b[0mpred_dir\u001b[0m\u001b[0;34m,\u001b[0m \u001b[0;34mf\"{name}_prmsd.png\"\u001b[0m\u001b[0;34m)\u001b[0m\u001b[0;34m\u001b[0m\u001b[0;34m\u001b[0m\u001b[0m\n\u001b[0;32m----> 4\u001b[0;31m \u001b[0mplot_prmsd\u001b[0m\u001b[0;34m(\u001b[0m\u001b[0msequences\u001b[0m\u001b[0;34m,\u001b[0m \u001b[0mpred\u001b[0m\u001b[0;34m.\u001b[0m\u001b[0mprmsd\u001b[0m\u001b[0;34m.\u001b[0m\u001b[0mcpu\u001b[0m\u001b[0;34m(\u001b[0m\u001b[0;34m)\u001b[0m\u001b[0;34m,\u001b[0m \u001b[0mprmsd_fig_file\u001b[0m\u001b[0;34m,\u001b[0m \u001b[0mshade_cdr\u001b[0m\u001b[0;34m=\u001b[0m\u001b[0mdo_renum\u001b[0m\u001b[0;34m,\u001b[0m \u001b[0mpdb_file\u001b[0m\u001b[0;34m=\u001b[0m\u001b[0mpred_pdb\u001b[0m\u001b[0;34m)\u001b[0m\u001b[0;34m\u001b[0m\u001b[0;34m\u001b[0m\u001b[0m\n\u001b[0m",
            "\u001b[0;31mNameError\u001b[0m: name 'plot_prmsd' is not defined"
          ]
        }
      ],
      "source": [
        "#@title Plot per-residue predicted RMSD\n",
        "\n",
        "prmsd_fig_file = os.path.join(pred_dir, f\"{name}_prmsd.png\")\n",
        "plot_prmsd(sequences, pred.prmsd.cpu(), prmsd_fig_file, shade_cdr=do_renum, pdb_file=pred_pdb)"
      ]
    },
    {
      "cell_type": "code",
      "execution_count": null,
      "metadata": {
        "cellView": "form",
        "id": "ajyElWbZ9EFF"
      },
      "outputs": [],
      "source": [
        "#@title Show predicted structure with predicted RMSD\n",
        "\n",
        "#@markdown Structure is colored from low (blue) to high (red) pRMSD.\n",
        "\n",
        "show_pdb(pred_pdb, len(sequences), bb_sticks=False, sc_sticks=True, color=\"b\")"
      ]
    },
    {
      "cell_type": "code",
      "execution_count": null,
      "metadata": {
        "cellView": "form",
        "id": "gZBzjpMdJ77q"
      },
      "outputs": [],
      "source": [
        "#@title Download results\n",
        "\n",
        "#@markdown Download zip file containing structure prediction and annotation results. If download fails, results are also accessible from file explorer on the left panel of the notebook.\n",
        "\n",
        "from google.colab import files\n",
        "import locale\n",
        "locale.getpreferredencoding = lambda: \"UTF-8\"\n",
        "\n",
        "!zip -FSr $name\".result.zip\" $pred_dir/ &> /dev/null\n",
        "files.download(f\"{name}.result.zip\")"
      ]
    }
  ],
  "metadata": {
    "colab": {
      "name": "IgFold.ipynb",
      "provenance": []
    },
    "kernelspec": {
      "display_name": "Python 3.9.12 ('igfold_public')",
      "language": "python",
      "name": "python3"
    },
    "language_info": {
      "name": "python",
      "version": "3.9.12"
    },
    "vscode": {
      "interpreter": {
        "hash": "84181e5f1827f203c248bfcd3a60e7e3a4ffc08f0a7dd8a443bd855d4ab14b5d"
      }
    }
  },
  "nbformat": 4,
  "nbformat_minor": 0
}